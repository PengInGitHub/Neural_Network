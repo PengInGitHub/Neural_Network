{
 "cells": [
  {
   "cell_type": "code",
   "execution_count": null,
   "metadata": {},
   "outputs": [],
   "source": [
    "# https://victorzhou.com/blog/intro-to-neural-networks/?fbclid=IwAR23zBcCqAXvMsc7KiB_Uyveik7mSDyrFVsBMbSzr5uQKDYvXmqHgtczQRI"
   ]
  },
  {
   "cell_type": "code",
   "execution_count": 1,
   "metadata": {},
   "outputs": [],
   "source": [
    "import numpy as np"
   ]
  },
  {
   "cell_type": "code",
   "execution_count": 7,
   "metadata": {},
   "outputs": [
    {
     "name": "stdout",
     "output_type": "stream",
     "text": [
      "0.9990889488055994\n"
     ]
    }
   ],
   "source": [
    "# coding a Neuron\n",
    "\n",
    "# sigmoid func\n",
    "\n",
    "def sigmoid(x):\n",
    "    return 1 / (1 + np.exp(-x))\n",
    "\n",
    "class Neuro:\n",
    "    def __init__(self, weights, bias):\n",
    "        self.weights = weights\n",
    "        self.bias = bias\n",
    "        \n",
    "    def feedforward(self, x):\n",
    "        return sigmoid(np.dot(self.weights, x) + self.bias)\n",
    "\n",
    "my_weights = np.array([0,1]) # w1 = 0, w2 = 1\n",
    "my_bias = 4\n",
    "my_neuro = Neuro(my_weights, my_bias)\n",
    "x = np.array([2,3])\n",
    "my_res = my_neuro.feedforward(x)\n",
    "print(my_res)"
   ]
  },
  {
   "cell_type": "code",
   "execution_count": 10,
   "metadata": {},
   "outputs": [
    {
     "data": {
      "text/plain": [
       "0.7216325609518421"
      ]
     },
     "execution_count": 10,
     "metadata": {},
     "output_type": "execute_result"
    }
   ],
   "source": [
    "# connect Neurons into Neural Network\n",
    "\n",
    "# feedforward: outputs of X are inputs for hidden layer, outputs of hidden layer are inputs for classificaition layer\n",
    "# X --> H --> O\n",
    "\n",
    "# hidden layer: any layers btw first layer (input) and the last layer (output)\n",
    "\n",
    "# coding a Neural Network\n",
    "\n",
    "class NeuralNetwork:\n",
    "    # global variable \n",
    "    def "
   ]
  },
  {
   "cell_type": "code",
   "execution_count": null,
   "metadata": {},
   "outputs": [],
   "source": []
  },
  {
   "cell_type": "code",
   "execution_count": null,
   "metadata": {},
   "outputs": [],
   "source": []
  },
  {
   "cell_type": "code",
   "execution_count": null,
   "metadata": {},
   "outputs": [],
   "source": []
  }
 ],
 "metadata": {
  "kernelspec": {
   "display_name": "Python 3",
   "language": "python",
   "name": "python3"
  },
  "language_info": {
   "codemirror_mode": {
    "name": "ipython",
    "version": 3
   },
   "file_extension": ".py",
   "mimetype": "text/x-python",
   "name": "python",
   "nbconvert_exporter": "python",
   "pygments_lexer": "ipython3",
   "version": "3.7.3"
  }
 },
 "nbformat": 4,
 "nbformat_minor": 2
}
