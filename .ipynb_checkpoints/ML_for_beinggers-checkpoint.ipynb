{
 "cells": [
  {
   "cell_type": "code",
   "execution_count": null,
   "metadata": {},
   "outputs": [],
   "source": [
    "# https://victorzhou.com/blog/intro-to-neural-networks/?fbclid=IwAR23zBcCqAXvMsc7KiB_Uyveik7mSDyrFVsBMbSzr5uQKDYvXmqHgtczQRI"
   ]
  },
  {
   "cell_type": "code",
   "execution_count": 3,
   "metadata": {},
   "outputs": [],
   "source": [
    "import numpy as np"
   ]
  },
  {
   "cell_type": "code",
   "execution_count": 4,
   "metadata": {},
   "outputs": [
    {
     "name": "stdout",
     "output_type": "stream",
     "text": [
      "0.9990889488055994\n"
     ]
    }
   ],
   "source": [
    "# coding a Neuron\n",
    "\n",
    "# sigmoid func\n",
    "\n",
    "def sigmoid(x):\n",
    "    return 1 / (1 + np.exp(-x))\n",
    "\n",
    "class Neuro:\n",
    "    def __init__(self, weights, bias):\n",
    "        self.weights = weights\n",
    "        self.bias = bias\n",
    "        \n",
    "    def feedforward(self, x):\n",
    "        return sigmoid(np.dot(self.weights, x) + self.bias)\n",
    "\n",
    "my_weights = np.array([0,1]) # w1 = 0, w2 = 1\n",
    "my_bias = 4\n",
    "my_neuro = Neuro(my_weights, my_bias)\n",
    "x = np.array([2,3])\n",
    "my_res = my_neuro.feedforward(x)\n",
    "print(my_res)"
   ]
  },
  {
   "cell_type": "code",
   "execution_count": 5,
   "metadata": {},
   "outputs": [
    {
     "name": "stdout",
     "output_type": "stream",
     "text": [
      "0.7216325609518421\n"
     ]
    }
   ],
   "source": [
    "# connect Neurons into Neural Network\n",
    "\n",
    "# feedforward: outputs of X are inputs for hidden layer, outputs of hidden layer are inputs for classificaition layer\n",
    "# X --> H --> O\n",
    "\n",
    "# hidden layer: any layers btw first layer (input) and the last layer (output)\n",
    "\n",
    "# coding a Neural Network\n",
    "\n",
    "class NeuralNetwork:\n",
    "    # global variable weights and bias\n",
    "    def __init__(self):\n",
    "        weights = np.array([0,1])\n",
    "        bias = 0\n",
    "        \n",
    "        self.h1 = Neuro(weights, bias)\n",
    "        self.h2 = Neuro(weights, bias)\n",
    "        self.o1 = Neuro(weights, bias)\n",
    "        \n",
    "    def feedforward(self, x):\n",
    "        out_h1 = self.h1.feedforward(x)\n",
    "        out_h2 = self.h2.feedforward(x)\n",
    "        \n",
    "        out_o1 = self.o1.feedforward(np.array([out_h1, out_h2]))\n",
    "        \n",
    "        return out_o1\n",
    "    \n",
    "    \n",
    "my_neural_network = NeuralNetwork()\n",
    "x = np.array([2,3])\n",
    "res = my_neural_network.feedforward(x)\n",
    "print(res)\n",
    "        "
   ]
  },
  {
   "cell_type": "code",
   "execution_count": 7,
   "metadata": {},
   "outputs": [
    {
     "name": "stdout",
     "output_type": "stream",
     "text": [
      "0.5\n"
     ]
    }
   ],
   "source": [
    "# Training a NN\n",
    "# train a Neural Network to predict a person's gender based on height and weight\n",
    "\n",
    "\n",
    "# Step 1: define the loss\n",
    "def mse_loss(y_true, y_pred):\n",
    "    # y_true is np.array() object\n",
    "    return ((y_true - y_pred)**2).mean()\n",
    "\n",
    "y_true = np.array([1,0,0,1])\n",
    "y_pred = np.array([0,0,0,0])\n",
    "print(mse_loss(y_true, y_pred))"
   ]
  },
  {
   "cell_type": "code",
   "execution_count": null,
   "metadata": {},
   "outputs": [],
   "source": [
    "# Step 2: minimize the loss\n",
    "# update model's weights and bias to minimize loss\n",
    "# take (multivariate) derivatives \n",
    "\n",
    "# 2 input units, 2 units in one hidden layer, 1 output unit\n",
    "# L(w1, w2, w3, w4, w5, w6, b1, b2, b3)\n",
    "\n",
    "# How would L change by w1? Take partial derivative!\n",
    "# dL / dw_1\n",
    "# use chain rule:\n",
    "# dL / dw_1 = dL / dy_pred * dy_pred / dw_1\n",
    "\n",
    "\n",
    "# take single case as example\n",
    "\n",
    "# L = (1-y_pred)**2\n",
    "# dL / dy_pred = -2(1 - y_pred)\n",
    "\n",
    "# y_pred = o1 = f(w5*h1 + w6*h2 + b3)\n",
    "# h1 = f(w1*x1 + w2*x2 + b1)\n",
    "\n",
    "# back-propagation\n",
    "# to calculate partial derivative by working backwards\n",
    "# dL / dw_1 = dL / dy_pred * dy_pred / dh_1 * dh_1 / dw_1\n",
    "\n",
    "# Example\n",
    "# calculate partial derivative\n",
    "\n",
    "# Alice weight: -2, height: -1, gender: 1\n",
    "# all weights set as 1, bias as 0\n",
    "# h1 = f(w1*x1 + w2*x2 + b1) = f(-2 - 1 + 0) = f(-3) = 0.047\n",
    "# h2 = f(w3*x1 + w4*x2 + b2) = 0.047\n",
    "# o1 = f(w5*h1 + w6*h2 + b3) = f(0.047*2) = 0.524\n",
    "\n",
    "# 0.52 does not quite favor Male (0) nor Female, we need to update the w and b\n",
    "# how? compute loss !\n",
    "\n",
    "# dL / dw_1 = dL/dy_pred * dy_pred/dh_1 * dh_1/dw_1\n",
    "\n",
    "# dL/dy_pred = d(1-y_pred)**2/dy_pred = -2*(1-y_pred) = -0.952\n",
    "\n",
    "# dy_pred/dh_1 = df(w5*h1 + w6*h2 + b3)/dh_1 \n",
    "# = w5 * f'(w5*h1 + w6*h2 + b3) = 1 * f'(1*0.047 + 1*0.047 + 0) = f'(0.094)\n",
    "# = f(0.094) * (1 - f(0.094))\n",
    "# = 0.52 * 0.477 = 0.248\n",
    "\n",
    "# dh_1/dw_1 = df(w1*x1 + w2*x2 + b1)/dw_1\n",
    "# = x1 * f'(w1*x1 + w2*x2 + b1) = -2 * f'(-2-1) \n",
    "# = -2*(f(-3) * (1 - f(-3))) = -2 *(0.047 * 0.95) = -0.0895\n",
    "\n",
    "# dL/dw_1 = dL/dy_pred * dy_pred/dh_1 * dh_1/dw_1\n",
    "# = (-0.952) * 0.248 * -0.0895 = 0.021\n",
    "\n",
    "# so dL/dw_1 = 0.021, which means L will increase tiny if w_1 is increased"
   ]
  },
  {
   "cell_type": "code",
   "execution_count": null,
   "metadata": {},
   "outputs": [],
   "source": [
    "# Step 3: Stochastic Gradient Descent SGD\n",
    "\n",
    "# strategy to update w\n",
    "# w += w - alpha * (dL/dw)\n",
    "# alpha: learning rate, controls how fast we train\n",
    "\n",
    "# update each w and b so that the loss will slowly decrease and the NN is improved\n",
    "\n",
    "# how it works\n",
    "# 1. choose one sample randomly - stochastic\n",
    "# 2. calculate the partial derivatives of loss with respect to weight and bias\n",
    "# e.g. dL/dw_1, dl/dw_2,  ... and dL/db\n",
    "# 3. use the update equation to update each weight and bias\n",
    "# 4. go back to step 1"
   ]
  },
  {
   "cell_type": "code",
   "execution_count": 1,
   "metadata": {},
   "outputs": [],
   "source": [
    "# Code a Complete Neural Network\n",
    "import numpy as np\n",
    "\n",
    "def sigmoid(z):\n",
    "    return 1 / (1 + np.exp(-z))\n",
    "\n",
    "def deriv_sigmoid(z):\n",
    "    fx = sigmoid(z)\n",
    "    return fx * (1 - fx)\n",
    "\n",
    "def mse_loss(y_true, y_pred):\n",
    "    return ((y_true - y_pred)**2).mean()\n",
    "\n",
    "class MyNeuralNetwork:\n",
    "    \n",
    "    def __init__(self):\n",
    "        # init weights\n",
    "        self.w1 = np.random.normal()\n",
    "        self.w2 = np.random.normal()\n",
    "        self.w3 = np.random.normal()\n",
    "        self.w4 = np.random.normal()\n",
    "        self.w5 = np.random.normal()\n",
    "        self.w6 = np.random.normal()\n",
    "        \n",
    "        # init \n",
    "    "
   ]
  },
  {
   "cell_type": "code",
   "execution_count": 19,
   "metadata": {},
   "outputs": [
    {
     "name": "stdout",
     "output_type": "stream",
     "text": [
      "0.9825736874211026\n"
     ]
    }
   ],
   "source": [
    "print(np.random.normal())"
   ]
  },
  {
   "cell_type": "code",
   "execution_count": null,
   "metadata": {},
   "outputs": [],
   "source": []
  },
  {
   "cell_type": "code",
   "execution_count": null,
   "metadata": {},
   "outputs": [],
   "source": []
  },
  {
   "cell_type": "code",
   "execution_count": null,
   "metadata": {},
   "outputs": [],
   "source": []
  },
  {
   "cell_type": "code",
   "execution_count": null,
   "metadata": {},
   "outputs": [],
   "source": []
  },
  {
   "cell_type": "code",
   "execution_count": null,
   "metadata": {},
   "outputs": [],
   "source": []
  }
 ],
 "metadata": {
  "kernelspec": {
   "display_name": "Python 3",
   "language": "python",
   "name": "python3"
  },
  "language_info": {
   "codemirror_mode": {
    "name": "ipython",
    "version": 3
   },
   "file_extension": ".py",
   "mimetype": "text/x-python",
   "name": "python",
   "nbconvert_exporter": "python",
   "pygments_lexer": "ipython3",
   "version": "3.7.3"
  }
 },
 "nbformat": 4,
 "nbformat_minor": 2
}
